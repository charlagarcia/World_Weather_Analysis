{
 "cells": [
  {
   "cell_type": "code",
   "execution_count": 1,
   "id": "661f15bc",
   "metadata": {},
   "outputs": [],
   "source": [
    "import random"
   ]
  },
  {
   "cell_type": "code",
   "execution_count": 2,
   "id": "3fa20f46",
   "metadata": {},
   "outputs": [
    {
     "data": {
      "text/plain": [
       "-19"
      ]
     },
     "execution_count": 2,
     "metadata": {},
     "output_type": "execute_result"
    }
   ],
   "source": [
    "random.randint(-90, 90)"
   ]
  },
  {
   "cell_type": "code",
   "execution_count": 3,
   "id": "da0ab833",
   "metadata": {},
   "outputs": [
    {
     "data": {
      "text/plain": [
       "0.2555505196760407"
      ]
     },
     "execution_count": 3,
     "metadata": {},
     "output_type": "execute_result"
    }
   ],
   "source": [
    "random.random()"
   ]
  },
  {
   "cell_type": "code",
   "execution_count": 4,
   "id": "54383555",
   "metadata": {},
   "outputs": [
    {
     "data": {
      "text/plain": [
       "-32.4182141113047"
      ]
     },
     "execution_count": 4,
     "metadata": {},
     "output_type": "execute_result"
    }
   ],
   "source": [
    "random_number = random.randint(-90, 89) + random.random()\n",
    "random_number"
   ]
  },
  {
   "cell_type": "code",
   "execution_count": 6,
   "id": "573a4618",
   "metadata": {},
   "outputs": [
    {
     "data": {
      "text/plain": [
       "[-14.545744312656144,\n",
       " 60.91820673824492,\n",
       " 18.050569273946042,\n",
       " 61.016325982347105,\n",
       " -72.9759834236472,\n",
       " -18.982395945338318,\n",
       " -74.67249916934058,\n",
       " 34.20815694819986,\n",
       " 47.204527615048534,\n",
       " 64.86915095846713]"
      ]
     },
     "execution_count": 6,
     "metadata": {},
     "output_type": "execute_result"
    }
   ],
   "source": [
    "x = 1\n",
    "latitudes = []\n",
    "while x < 11:\n",
    "    random_lat = random.randint(-90, 89) + random.random()\n",
    "    latitudes.append(random_lat)\n",
    "    x += 1\n",
    "latitudes"
   ]
  },
  {
   "cell_type": "code",
   "execution_count": 7,
   "id": "87aa4fa3",
   "metadata": {},
   "outputs": [
    {
     "data": {
      "text/plain": [
       "-16"
      ]
     },
     "execution_count": 7,
     "metadata": {},
     "output_type": "execute_result"
    }
   ],
   "source": [
    "random.randrange(-90, 90, step=1)"
   ]
  },
  {
   "cell_type": "code",
   "execution_count": 8,
   "id": "875c1130",
   "metadata": {},
   "outputs": [
    {
     "data": {
      "text/plain": [
       "60.49207429977491"
      ]
     },
     "execution_count": 8,
     "metadata": {},
     "output_type": "execute_result"
    }
   ],
   "source": [
    "random.uniform(-90, 90)"
   ]
  },
  {
   "cell_type": "code",
   "execution_count": 9,
   "id": "4b71eb94",
   "metadata": {},
   "outputs": [],
   "source": [
    "# Import the NumPy module.\n",
    "import numpy as np"
   ]
  },
  {
   "cell_type": "code",
   "execution_count": 10,
   "id": "1f7ab559",
   "metadata": {},
   "outputs": [
    {
     "data": {
      "text/plain": [
       "-16.809514935187863"
      ]
     },
     "execution_count": 10,
     "metadata": {},
     "output_type": "execute_result"
    }
   ],
   "source": [
    "np.random.uniform(-90.000, 90.000)"
   ]
  },
  {
   "cell_type": "code",
   "execution_count": 11,
   "id": "7da125b2",
   "metadata": {},
   "outputs": [
    {
     "data": {
      "text/plain": [
       "array([ 39.2530309 , -36.95587819, -71.52163558,  15.17024943,\n",
       "        77.25751228,  46.59065869, -66.14034342, -10.3097139 ,\n",
       "        63.02063807, -44.0617815 ,  47.18446321,  33.53688523,\n",
       "        13.23860252, -55.308334  ,  44.71298241, -21.61078194,\n",
       "       -74.87699813, -63.90467487, -24.48513257, -32.16443977,\n",
       "        38.25496896,  88.59344211, -85.24212896,  61.32931442,\n",
       "        79.29125671, -45.21453505, -29.05273402, -46.4743999 ,\n",
       "       -47.78293655, -82.47724257, -78.08872671, -24.26373331,\n",
       "        74.04544486, -85.73316286,  81.75368107,  18.28974865,\n",
       "       -79.31563706, -37.52603501,  19.93977196,  47.80043117,\n",
       "       -66.61905102,   6.34239264,  68.42544478, -88.33612319,\n",
       "       -77.87335289, -76.31652551,  -9.35286476, -88.76581437,\n",
       "       -70.37882166, -66.07114885])"
      ]
     },
     "execution_count": 11,
     "metadata": {},
     "output_type": "execute_result"
    }
   ],
   "source": [
    "np.random.uniform(-90.000, 90.000, size=50)"
   ]
  },
  {
   "cell_type": "code",
   "execution_count": 12,
   "id": "2c527f9e",
   "metadata": {},
   "outputs": [],
   "source": [
    "# Import timeit.\n",
    "import timeit"
   ]
  },
  {
   "cell_type": "code",
   "execution_count": 15,
   "id": "f59f4719",
   "metadata": {},
   "outputs": [
    {
     "name": "stdout",
     "output_type": "stream",
     "text": [
      "9.94 µs ± 298 ns per loop (mean ± std. dev. of 7 runs, 100000 loops each)\n"
     ]
    }
   ],
   "source": [
    "%timeit np.random.uniform(-90.000, 90.000, size=1500)"
   ]
  },
  {
   "cell_type": "code",
   "execution_count": 16,
   "id": "afff0893",
   "metadata": {},
   "outputs": [
    {
     "name": "stdout",
     "output_type": "stream",
     "text": [
      "1.25 ms ± 27.3 µs per loop (mean ± std. dev. of 7 runs, 1000 loops each)\n"
     ]
    }
   ],
   "source": [
    "def latitudes(size):\n",
    "    latitudes = []\n",
    "    x = 0\n",
    "    while x < (size):\n",
    "        random_lat = random.randint(-90, 90) + random.random()\n",
    "        latitudes.append(random_lat)\n",
    "        x += 1\n",
    "    return latitudes\n",
    "# Call the function with 1500.\n",
    "%timeit latitudes(1500)"
   ]
  },
  {
   "cell_type": "code",
   "execution_count": null,
   "id": "c48cdebd",
   "metadata": {},
   "outputs": [],
   "source": []
  }
 ],
 "metadata": {
  "kernelspec": {
   "display_name": "PythonData",
   "language": "python",
   "name": "pythondata"
  },
  "language_info": {
   "codemirror_mode": {
    "name": "ipython",
    "version": 3
   },
   "file_extension": ".py",
   "mimetype": "text/x-python",
   "name": "python",
   "nbconvert_exporter": "python",
   "pygments_lexer": "ipython3",
   "version": "3.7.10"
  }
 },
 "nbformat": 4,
 "nbformat_minor": 5
}
